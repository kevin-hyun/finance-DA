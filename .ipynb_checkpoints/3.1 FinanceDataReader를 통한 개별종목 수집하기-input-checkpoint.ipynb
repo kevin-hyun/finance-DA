{
 "cells": [
  {
   "cell_type": "markdown",
   "metadata": {
    "id": "JooJ7cGP5HMS"
   },
   "source": [
    "[![Open In Colab](https://colab.research.google.com/assets/colab-badge.svg)](https://colab.research.google.com/github/corazzon/finance-data-analysis/blob/main/3.1%20FinanceDataReader%EB%A5%BC%20%ED%86%B5%ED%95%9C%20%EA%B0%9C%EB%B3%84%EC%A2%85%EB%AA%A9%20%EC%88%98%EC%A7%91%ED%95%98%EA%B8%B0-input.ipynb)\n",
    "\n",
    "## 라이브러리 불러오기"
   ]
  },
  {
   "cell_type": "code",
   "execution_count": 1,
   "metadata": {
    "id": "0HuA8Gtr5HMT"
   },
   "outputs": [],
   "source": [
    "# 데이터 분석을 위해 pandas 불러오기\n",
    "import pandas as pd"
   ]
  },
  {
   "cell_type": "markdown",
   "metadata": {
    "id": "yx1gbnsI5HMQ"
   },
   "source": [
    "* [FinanceData/FinanceDataReader: Financial data reader](https://github.com/FinanceData/FinanceDataReader)\n",
    "* [FinanceDataReader 사용자 안내서 | FinanceData](https://financedata.github.io/posts/finance-data-reader-users-guide.html)"
   ]
  },
  {
   "cell_type": "code",
   "execution_count": null,
   "metadata": {
    "id": "Szu-zewh5HMR"
   },
   "outputs": [],
   "source": [
    "# colab 을 사용한다면 런타임이 초기화 될때마다 다시 설치해 주어야 합니다.\n",
    "# 로컬 컴퓨터에 설치했다면 이전에 설치된 라이브러리를 사용해 주시면 됩니다.\n",
    "# !pip install -U finance-datareader"
   ]
  },
  {
   "cell_type": "code",
   "execution_count": 4,
   "metadata": {
    "id": "RmRqR4HT5HMT"
   },
   "outputs": [],
   "source": [
    "# FinanceDataReader 를 fdr 별칭으로 가져오기\n",
    "import FinanceDataReader as fdr"
   ]
  },
  {
   "cell_type": "markdown",
   "metadata": {
    "id": "VNyU_0nM7gDr"
   },
   "source": [
    "## 개별 종목의 일별 시세 수집\n",
    "* 종목코드로 수집이 가능합니다.\n",
    "* 종목명을 찾아서 일별 시세를 수집해 주는 함수를 만들어 볼 예정입니다."
   ]
  },
  {
   "cell_type": "code",
   "execution_count": 12,
   "metadata": {
    "id": "-MWybAcD5HMT"
   },
   "outputs": [
    {
     "data": {
      "text/html": [
       "<div>\n",
       "<style scoped>\n",
       "    .dataframe tbody tr th:only-of-type {\n",
       "        vertical-align: middle;\n",
       "    }\n",
       "\n",
       "    .dataframe tbody tr th {\n",
       "        vertical-align: top;\n",
       "    }\n",
       "\n",
       "    .dataframe thead th {\n",
       "        text-align: right;\n",
       "    }\n",
       "</style>\n",
       "<table border=\"1\" class=\"dataframe\">\n",
       "  <thead>\n",
       "    <tr style=\"text-align: right;\">\n",
       "      <th></th>\n",
       "      <th>Close</th>\n",
       "    </tr>\n",
       "    <tr>\n",
       "      <th>Date</th>\n",
       "      <th></th>\n",
       "    </tr>\n",
       "  </thead>\n",
       "  <tbody>\n",
       "    <tr>\n",
       "      <th>2017-01-02</th>\n",
       "      <td>36100</td>\n",
       "    </tr>\n",
       "    <tr>\n",
       "      <th>2017-01-03</th>\n",
       "      <td>36480</td>\n",
       "    </tr>\n",
       "    <tr>\n",
       "      <th>2017-01-04</th>\n",
       "      <td>36160</td>\n",
       "    </tr>\n",
       "    <tr>\n",
       "      <th>2017-01-05</th>\n",
       "      <td>35560</td>\n",
       "    </tr>\n",
       "    <tr>\n",
       "      <th>2017-01-06</th>\n",
       "      <td>36200</td>\n",
       "    </tr>\n",
       "    <tr>\n",
       "      <th>...</th>\n",
       "      <td>...</td>\n",
       "    </tr>\n",
       "    <tr>\n",
       "      <th>2020-12-23</th>\n",
       "      <td>73900</td>\n",
       "    </tr>\n",
       "    <tr>\n",
       "      <th>2020-12-24</th>\n",
       "      <td>77800</td>\n",
       "    </tr>\n",
       "    <tr>\n",
       "      <th>2020-12-28</th>\n",
       "      <td>78700</td>\n",
       "    </tr>\n",
       "    <tr>\n",
       "      <th>2020-12-29</th>\n",
       "      <td>78300</td>\n",
       "    </tr>\n",
       "    <tr>\n",
       "      <th>2020-12-30</th>\n",
       "      <td>81000</td>\n",
       "    </tr>\n",
       "  </tbody>\n",
       "</table>\n",
       "<p>981 rows × 1 columns</p>\n",
       "</div>"
      ],
      "text/plain": [
       "            Close\n",
       "Date             \n",
       "2017-01-02  36100\n",
       "2017-01-03  36480\n",
       "2017-01-04  36160\n",
       "2017-01-05  35560\n",
       "2017-01-06  36200\n",
       "...           ...\n",
       "2020-12-23  73900\n",
       "2020-12-24  77800\n",
       "2020-12-28  78700\n",
       "2020-12-29  78300\n",
       "2020-12-30  81000\n",
       "\n",
       "[981 rows x 1 columns]"
      ]
     },
     "execution_count": 12,
     "metadata": {},
     "output_type": "execute_result"
    }
   ],
   "source": [
    "# 삼성전자, 2017년~현재 일별 시세 받아오기\n",
    "# 삼성전자의 종목 번호 '005930'- symbol\n",
    "# year string! \n",
    "\n",
    "df = fdr.DataReader(\"005930\",\"2017\",\"2021\")\n",
    "\n",
    "df.head()\n",
    "\n"
   ]
  },
  {
   "cell_type": "code",
   "execution_count": 15,
   "metadata": {},
   "outputs": [
    {
     "data": {
      "text/plain": [
       "<AxesSubplot:xlabel='Date'>"
      ]
     },
     "execution_count": 15,
     "metadata": {},
     "output_type": "execute_result"
    },
    {
     "data": {
      "image/png": "[encoded data removed]",
      "text/plain": [
       "<Figure size 432x288 with 1 Axes>"
      ]
     },
     "metadata": {
      "needs_background": "light"
     },
     "output_type": "display_data"
    }
   ],
   "source": [
    "# 종가 시각화 하기\n",
    "df[\"Close\"].plot()"
   ]
  },
  {
   "cell_type": "markdown",
   "metadata": {
    "id": "h7T4gW_W-FmZ"
   },
   "source": [
    "## 상장종목 목록 가져오기"
   ]
  },
  {
   "cell_type": "code",
   "execution_count": 20,
   "metadata": {
    "id": "gWgVQdSx5HMT"
   },
   "outputs": [
    {
     "data": {
      "text/plain": [
       "(6864, 10)"
      ]
     },
     "execution_count": 20,
     "metadata": {},
     "output_type": "execute_result"
    }
   ],
   "source": [
    "# 이전 강의에서 저장해 놓았던 csv 파일로 분석을 합니다.\n",
    "# colab 사용자의 경우 이미 csv 파일이 지워졌을 수 있기 때문에 파일이 없을 경우 아래 셀에서 다시 load하면 됩니다.\n",
    "# symbol 말고 '삼성전자' 로 찾아보고 싶음\n",
    "\n",
    "df_krx = pd.read_csv('krx.csv')\n",
    "\n",
    "df_krx.shape\n"
   ]
  },
  {
   "cell_type": "code",
   "execution_count": null,
   "metadata": {
    "id": "muwUkDSF5HMT"
   },
   "outputs": [],
   "source": [
    "# 위 CSV 파일이 로드되지 않아 당황스러우신가요? 그럼 아래 주석을 풀고 다시 KRX 데이터를 받아오세요.\n",
    "# colab의 경우 일정 시간이 지나면 런타임이 초기화 되기 때문에 다시 로드하면 데이터를 가져올 수 있습니다.\n",
    "# df_krx = fdr.StockListing('KRX')"
   ]
  },
  {
   "cell_type": "markdown",
   "metadata": {
    "id": "hbBmLbpY7vKY"
   },
   "source": [
    "## 상장종목 목록 사용하기\n",
    "* 종목명과 심볼을 찾기 위해 상장종목 목록을 사용합니다."
   ]
  },
  {
   "cell_type": "code",
   "execution_count": 22,
   "metadata": {
    "id": "U0n_cZGA5HMT"
   },
   "outputs": [
    {
     "data": {
      "text/html": [
       "<div>\n",
       "<style scoped>\n",
       "    .dataframe tbody tr th:only-of-type {\n",
       "        vertical-align: middle;\n",
       "    }\n",
       "\n",
       "    .dataframe tbody tr th {\n",
       "        vertical-align: top;\n",
       "    }\n",
       "\n",
       "    .dataframe thead th {\n",
       "        text-align: right;\n",
       "    }\n",
       "</style>\n",
       "<table border=\"1\" class=\"dataframe\">\n",
       "  <thead>\n",
       "    <tr style=\"text-align: right;\">\n",
       "      <th></th>\n",
       "      <th>Symbol</th>\n",
       "      <th>Name</th>\n",
       "    </tr>\n",
       "  </thead>\n",
       "  <tbody>\n",
       "    <tr>\n",
       "      <th>0</th>\n",
       "      <td>060310</td>\n",
       "      <td>3S</td>\n",
       "    </tr>\n",
       "    <tr>\n",
       "      <th>1</th>\n",
       "      <td>095570</td>\n",
       "      <td>AJ네트웍스</td>\n",
       "    </tr>\n",
       "    <tr>\n",
       "      <th>2</th>\n",
       "      <td>006840</td>\n",
       "      <td>AK홀딩스</td>\n",
       "    </tr>\n",
       "    <tr>\n",
       "      <th>3</th>\n",
       "      <td>054620</td>\n",
       "      <td>APS홀딩스</td>\n",
       "    </tr>\n",
       "    <tr>\n",
       "      <th>4</th>\n",
       "      <td>265520</td>\n",
       "      <td>AP시스템</td>\n",
       "    </tr>\n",
       "  </tbody>\n",
       "</table>\n",
       "</div>"
      ],
      "text/plain": [
       "   Symbol    Name\n",
       "0  060310      3S\n",
       "1  095570  AJ네트웍스\n",
       "2  006840   AK홀딩스\n",
       "3  054620  APS홀딩스\n",
       "4  265520   AP시스템"
      ]
     },
     "execution_count": 22,
     "metadata": {},
     "output_type": "execute_result"
    }
   ],
   "source": [
    "# DataFrame 에 어떤 데이터가 들어있는 head()로 일부 데이터만 가져와 봅니다.\n",
    "df_krx[[\"Symbol\",\"Name\"]].head()\n",
    "\n"
   ]
  },
  {
   "cell_type": "markdown",
   "metadata": {},
   "source": [
    "<font color=\"red\">빅히트 사명이 하이브로 변경되었습니다. 하이브로 실습해 주세요.</font>"
   ]
  },
  {
   "cell_type": "code",
   "execution_count": 37,
   "metadata": {
    "id": "OJtBeoeo5HMT",
    "scrolled": true
   },
   "outputs": [
    {
     "data": {
      "text/plain": [
       "'352820'"
      ]
     },
     "execution_count": 37,
     "metadata": {},
     "output_type": "execute_result"
    }
   ],
   "source": [
    "# df_krx의 Name column 에서 '하이브'에 해당하는 row를 전부 가져오는데 Name column만 가져와\n",
    "# list 형태로 index 번호는 빼고 ['하이브'] 만 가져오게 되고 [0]을 통해 list에 있는 string만 가져오게 됩니다.\n",
    "# 하이브 (series) -> ['하이브'] (list) -> '하이브' (string)\n",
    "item_name= \"하이브\"\n",
    "df_krx.loc[df_krx[\"Name\"] ==item_name,\"Symbol\"].tolist()[0]\n"
   ]
  },
  {
   "cell_type": "code",
   "execution_count": 36,
   "metadata": {
    "id": "2YfQlf9U5HMU"
   },
   "outputs": [
    {
     "ename": "IndexError",
     "evalue": "list index out of range",
     "output_type": "error",
     "traceback": [
      "\u001b[0;31m---------------------------------------------------------------------------\u001b[0m",
      "\u001b[0;31mIndexError\u001b[0m                                Traceback (most recent call last)",
      "\u001b[0;32m/var/folders/gk/575ywhys2fl6cy6yy62tjl8h0000gn/T/ipykernel_37752/2816441082.py\u001b[0m in \u001b[0;36m<module>\u001b[0;34m\u001b[0m\n\u001b[1;32m      1\u001b[0m \u001b[0;31m# '히트'라는 이름을 가진 상장사가 있는지 확인해 보기\u001b[0m\u001b[0;34m\u001b[0m\u001b[0;34m\u001b[0m\u001b[0m\n\u001b[0;32m----> 2\u001b[0;31m \u001b[0mdf_krx\u001b[0m\u001b[0;34m.\u001b[0m\u001b[0mloc\u001b[0m\u001b[0;34m[\u001b[0m\u001b[0mdf_krx\u001b[0m\u001b[0;34m[\u001b[0m\u001b[0;34m\"Name\"\u001b[0m\u001b[0;34m]\u001b[0m \u001b[0;34m==\u001b[0m\u001b[0;34m\"히트\"\u001b[0m\u001b[0;34m,\u001b[0m\u001b[0;34m\"Symbol\"\u001b[0m\u001b[0;34m]\u001b[0m\u001b[0;34m.\u001b[0m\u001b[0mtolist\u001b[0m\u001b[0;34m(\u001b[0m\u001b[0;34m)\u001b[0m\u001b[0;34m[\u001b[0m\u001b[0;36m0\u001b[0m\u001b[0;34m]\u001b[0m\u001b[0;34m\u001b[0m\u001b[0;34m\u001b[0m\u001b[0m\n\u001b[0m",
      "\u001b[0;31mIndexError\u001b[0m: list index out of range"
     ]
    }
   ],
   "source": [
    "# '히트'라는 이름을 가진 상장사가 있는지 확인해 보기\n",
    "df_krx.loc[df_krx[\"Name\"] ==\"히트\",\"Symbol\"].tolist()[0]"
   ]
  },
  {
   "cell_type": "markdown",
   "metadata": {
    "id": "vaM5_Hkd5HMU"
   },
   "source": [
    "## 종목명으로 종목 코드를 받아오는 함수 만들기"
   ]
  },
  {
   "cell_type": "code",
   "execution_count": 42,
   "metadata": {
    "id": "6EB27Rkx5HMU"
   },
   "outputs": [],
   "source": [
    "# 종목명으로 종목코드 받아오는 함수 만들기\n",
    "# df_krx의 Name column에서 같은 값이 있으면 \n",
    "# row의 Symbol column의 값을 list로 name_list에 저장하기\n",
    "# item_code_by_item_name 함수를 만듭니다.\n",
    "# def item_code_by_item_name(item_name):\n",
    "\n",
    "\n",
    "\n",
    "\n",
    "def item_code_by_item_name(item_name):\n",
    "    \"\"\"\n",
    "    종목명을 받아 종목코드를 찾아 반환하는 함수\n",
    "    \"\"\"\n",
    "\n",
    "    item_code_list = df_krx.loc[df_krx[\"Name\"] ==item_name,\"Symbol\"].tolist()\n",
    "    if len(item_code_list)>0:\n",
    "        item_code = item_code_list[0]\n",
    "        return item_code\n",
    "    else:\n",
    "        return False"
   ]
  },
  {
   "cell_type": "code",
   "execution_count": null,
   "metadata": {},
   "outputs": [],
   "source": []
  },
  {
   "cell_type": "code",
   "execution_count": 43,
   "metadata": {
    "id": "oMwl2Dzq5HMU"
   },
   "outputs": [
    {
     "data": {
      "text/plain": [
       "False"
      ]
     },
     "execution_count": 43,
     "metadata": {},
     "output_type": "execute_result"
    }
   ],
   "source": [
    "# 네이버로 등록된 상장사는 없습니다.\n",
    "# 잘못 입력된 텍스트에 대해 예외처리를 하는지 확인합니다.\n",
    "item_code_by_item_name(\"네이버\")"
   ]
  },
  {
   "cell_type": "code",
   "execution_count": 44,
   "metadata": {
    "id": "p8uKKoLUPwVK"
   },
   "outputs": [
    {
     "data": {
      "text/plain": [
       "'035420'"
      ]
     },
     "execution_count": 44,
     "metadata": {},
     "output_type": "execute_result"
    }
   ],
   "source": [
    "# 네이버는 NAVER로 등록되어 있습니다.\n",
    "item_code_by_item_name(\"NAVER\")"
   ]
  },
  {
   "cell_type": "code",
   "execution_count": 45,
   "metadata": {},
   "outputs": [
    {
     "data": {
      "text/plain": [
       "'005930'"
      ]
     },
     "execution_count": 45,
     "metadata": {},
     "output_type": "execute_result"
    }
   ],
   "source": [
    "# 삼성전자\n",
    "item_code_by_item_name(\"삼성전자\")"
   ]
  },
  {
   "cell_type": "code",
   "execution_count": 47,
   "metadata": {
    "id": "jMv5iz9a5HMU"
   },
   "outputs": [
    {
     "ename": "SyntaxError",
     "evalue": "invalid syntax (373366206.py, line 2)",
     "output_type": "error",
     "traceback": [
      "\u001b[0;36m  File \u001b[0;32m\"/var/folders/gk/575ywhys2fl6cy6yy62tjl8h0000gn/T/ipykernel_37752/373366206.py\"\u001b[0;36m, line \u001b[0;32m2\u001b[0m\n\u001b[0;31m    display item_code_by_item_name(\"셀트리온\")\u001b[0m\n\u001b[0m            ^\u001b[0m\n\u001b[0;31mSyntaxError\u001b[0m\u001b[0;31m:\u001b[0m invalid syntax\n"
     ]
    }
   ],
   "source": [
    "# 셀트리온과 카카오게임즈도 확인하여 봅니다.\n",
    "item_code_by_item_name(\"셀트리온\")\n",
    "item_code_by_item_name(\"카카오게임즈\")"
   ]
  },
  {
   "cell_type": "code",
   "execution_count": 48,
   "metadata": {},
   "outputs": [
    {
     "data": {
      "text/html": [
       "<div>\n",
       "<style scoped>\n",
       "    .dataframe tbody tr th:only-of-type {\n",
       "        vertical-align: middle;\n",
       "    }\n",
       "\n",
       "    .dataframe tbody tr th {\n",
       "        vertical-align: top;\n",
       "    }\n",
       "\n",
       "    .dataframe thead th {\n",
       "        text-align: right;\n",
       "    }\n",
       "</style>\n",
       "<table border=\"1\" class=\"dataframe\">\n",
       "  <thead>\n",
       "    <tr style=\"text-align: right;\">\n",
       "      <th></th>\n",
       "      <th>Open</th>\n",
       "      <th>High</th>\n",
       "      <th>Low</th>\n",
       "      <th>Close</th>\n",
       "      <th>Volume</th>\n",
       "      <th>Change</th>\n",
       "    </tr>\n",
       "    <tr>\n",
       "      <th>Date</th>\n",
       "      <th></th>\n",
       "      <th></th>\n",
       "      <th></th>\n",
       "      <th></th>\n",
       "      <th></th>\n",
       "      <th></th>\n",
       "    </tr>\n",
       "  </thead>\n",
       "  <tbody>\n",
       "    <tr>\n",
       "      <th>1997-10-24</th>\n",
       "      <td>1013</td>\n",
       "      <td>1049</td>\n",
       "      <td>1011</td>\n",
       "      <td>1012</td>\n",
       "      <td>212730</td>\n",
       "      <td>NaN</td>\n",
       "    </tr>\n",
       "    <tr>\n",
       "      <th>1997-10-25</th>\n",
       "      <td>1009</td>\n",
       "      <td>1009</td>\n",
       "      <td>931</td>\n",
       "      <td>931</td>\n",
       "      <td>146970</td>\n",
       "      <td>-0.080040</td>\n",
       "    </tr>\n",
       "    <tr>\n",
       "      <th>1997-10-27</th>\n",
       "      <td>913</td>\n",
       "      <td>938</td>\n",
       "      <td>857</td>\n",
       "      <td>858</td>\n",
       "      <td>233710</td>\n",
       "      <td>-0.078410</td>\n",
       "    </tr>\n",
       "    <tr>\n",
       "      <th>1997-10-28</th>\n",
       "      <td>806</td>\n",
       "      <td>813</td>\n",
       "      <td>789</td>\n",
       "      <td>790</td>\n",
       "      <td>213390</td>\n",
       "      <td>-0.079254</td>\n",
       "    </tr>\n",
       "    <tr>\n",
       "      <th>1997-10-29</th>\n",
       "      <td>795</td>\n",
       "      <td>848</td>\n",
       "      <td>732</td>\n",
       "      <td>774</td>\n",
       "      <td>450420</td>\n",
       "      <td>-0.020253</td>\n",
       "    </tr>\n",
       "    <tr>\n",
       "      <th>...</th>\n",
       "      <td>...</td>\n",
       "      <td>...</td>\n",
       "      <td>...</td>\n",
       "      <td>...</td>\n",
       "      <td>...</td>\n",
       "      <td>...</td>\n",
       "    </tr>\n",
       "    <tr>\n",
       "      <th>2021-11-17</th>\n",
       "      <td>71300</td>\n",
       "      <td>71600</td>\n",
       "      <td>70600</td>\n",
       "      <td>70700</td>\n",
       "      <td>11027606</td>\n",
       "      <td>-0.008415</td>\n",
       "    </tr>\n",
       "    <tr>\n",
       "      <th>2021-11-18</th>\n",
       "      <td>70700</td>\n",
       "      <td>71000</td>\n",
       "      <td>70200</td>\n",
       "      <td>70200</td>\n",
       "      <td>10144957</td>\n",
       "      <td>-0.007072</td>\n",
       "    </tr>\n",
       "    <tr>\n",
       "      <th>2021-11-19</th>\n",
       "      <td>70400</td>\n",
       "      <td>71400</td>\n",
       "      <td>70100</td>\n",
       "      <td>71200</td>\n",
       "      <td>11954728</td>\n",
       "      <td>0.014245</td>\n",
       "    </tr>\n",
       "    <tr>\n",
       "      <th>2021-11-22</th>\n",
       "      <td>73300</td>\n",
       "      <td>75200</td>\n",
       "      <td>73000</td>\n",
       "      <td>74900</td>\n",
       "      <td>27506623</td>\n",
       "      <td>0.051966</td>\n",
       "    </tr>\n",
       "    <tr>\n",
       "      <th>2021-11-23</th>\n",
       "      <td>76000</td>\n",
       "      <td>76000</td>\n",
       "      <td>74500</td>\n",
       "      <td>75300</td>\n",
       "      <td>21830879</td>\n",
       "      <td>0.005340</td>\n",
       "    </tr>\n",
       "  </tbody>\n",
       "</table>\n",
       "<p>6000 rows × 6 columns</p>\n",
       "</div>"
      ],
      "text/plain": [
       "             Open   High    Low  Close    Volume    Change\n",
       "Date                                                      \n",
       "1997-10-24   1013   1049   1011   1012    212730       NaN\n",
       "1997-10-25   1009   1009    931    931    146970 -0.080040\n",
       "1997-10-27    913    938    857    858    233710 -0.078410\n",
       "1997-10-28    806    813    789    790    213390 -0.079254\n",
       "1997-10-29    795    848    732    774    450420 -0.020253\n",
       "...           ...    ...    ...    ...       ...       ...\n",
       "2021-11-17  71300  71600  70600  70700  11027606 -0.008415\n",
       "2021-11-18  70700  71000  70200  70200  10144957 -0.007072\n",
       "2021-11-19  70400  71400  70100  71200  11954728  0.014245\n",
       "2021-11-22  73300  75200  73000  74900  27506623  0.051966\n",
       "2021-11-23  76000  76000  74500  75300  21830879  0.005340\n",
       "\n",
       "[6000 rows x 6 columns]"
      ]
     },
     "execution_count": 48,
     "metadata": {},
     "output_type": "execute_result"
    }
   ],
   "source": [
    "fdr.DataReader(item_code_by_item_name(\"삼성전자\"))"
   ]
  },
  {
   "cell_type": "code",
   "execution_count": null,
   "metadata": {},
   "outputs": [],
   "source": []
  },
  {
   "cell_type": "markdown",
   "metadata": {
    "id": "Wwe4qoor5HMU"
   },
   "source": [
    "## 종목명으로 일별시세를 받아오는 함수 만들기"
   ]
  },
  {
   "cell_type": "code",
   "execution_count": 56,
   "metadata": {
    "id": "GRQLNGdv5HMU"
   },
   "outputs": [],
   "source": [
    "# item_code_by_item_name : 종목명으로 종목번호 가져오기\n",
    "# find_item_list : 종목번호로 해당연도 데이터 가져오기\n",
    "# find_item_list는 year 값이 없으면 기본으로 2020년 데이터를 선택\n",
    "def find_item_list(item_name, year=2020):\n",
    "    \"\"\"\n",
    "    종목명을 넘겨주면 일별시세를 반환하는 함수\n",
    "    내부에서 종목명으로 종목코드를 반환하는 함수(item_code_by_item_name)로\n",
    "    종목의 시세를 수집합니다.\n",
    "    \"\"\"\n",
    "    item_code = item_code_by_item_name(item_name)\n",
    "    if item_code:\n",
    "        df_day = fdr.DataReader(item_code_by_item_name(item_name),start=str(year))\n",
    "        return df_day\n",
    "    else:\n",
    "        return False\n"
   ]
  },
  {
   "cell_type": "code",
   "execution_count": 59,
   "metadata": {},
   "outputs": [
    {
     "data": {
      "text/html": [
       "<div>\n",
       "<style scoped>\n",
       "    .dataframe tbody tr th:only-of-type {\n",
       "        vertical-align: middle;\n",
       "    }\n",
       "\n",
       "    .dataframe tbody tr th {\n",
       "        vertical-align: top;\n",
       "    }\n",
       "\n",
       "    .dataframe thead th {\n",
       "        text-align: right;\n",
       "    }\n",
       "</style>\n",
       "<table border=\"1\" class=\"dataframe\">\n",
       "  <thead>\n",
       "    <tr style=\"text-align: right;\">\n",
       "      <th></th>\n",
       "      <th>Open</th>\n",
       "      <th>High</th>\n",
       "      <th>Low</th>\n",
       "      <th>Close</th>\n",
       "      <th>Volume</th>\n",
       "      <th>Change</th>\n",
       "    </tr>\n",
       "    <tr>\n",
       "      <th>Date</th>\n",
       "      <th></th>\n",
       "      <th></th>\n",
       "      <th></th>\n",
       "      <th></th>\n",
       "      <th></th>\n",
       "      <th></th>\n",
       "    </tr>\n",
       "  </thead>\n",
       "  <tbody>\n",
       "    <tr>\n",
       "      <th>2020-01-02</th>\n",
       "      <td>55500</td>\n",
       "      <td>56000</td>\n",
       "      <td>55000</td>\n",
       "      <td>55200</td>\n",
       "      <td>12993228</td>\n",
       "      <td>-0.010753</td>\n",
       "    </tr>\n",
       "    <tr>\n",
       "      <th>2020-01-03</th>\n",
       "      <td>56000</td>\n",
       "      <td>56600</td>\n",
       "      <td>54900</td>\n",
       "      <td>55500</td>\n",
       "      <td>15422255</td>\n",
       "      <td>0.005435</td>\n",
       "    </tr>\n",
       "    <tr>\n",
       "      <th>2020-01-06</th>\n",
       "      <td>54900</td>\n",
       "      <td>55600</td>\n",
       "      <td>54600</td>\n",
       "      <td>55500</td>\n",
       "      <td>10278951</td>\n",
       "      <td>0.000000</td>\n",
       "    </tr>\n",
       "    <tr>\n",
       "      <th>2020-01-07</th>\n",
       "      <td>55700</td>\n",
       "      <td>56400</td>\n",
       "      <td>55600</td>\n",
       "      <td>55800</td>\n",
       "      <td>10009778</td>\n",
       "      <td>0.005405</td>\n",
       "    </tr>\n",
       "    <tr>\n",
       "      <th>2020-01-08</th>\n",
       "      <td>56200</td>\n",
       "      <td>57400</td>\n",
       "      <td>55900</td>\n",
       "      <td>56800</td>\n",
       "      <td>23501171</td>\n",
       "      <td>0.017921</td>\n",
       "    </tr>\n",
       "    <tr>\n",
       "      <th>...</th>\n",
       "      <td>...</td>\n",
       "      <td>...</td>\n",
       "      <td>...</td>\n",
       "      <td>...</td>\n",
       "      <td>...</td>\n",
       "      <td>...</td>\n",
       "    </tr>\n",
       "    <tr>\n",
       "      <th>2021-11-17</th>\n",
       "      <td>71300</td>\n",
       "      <td>71600</td>\n",
       "      <td>70600</td>\n",
       "      <td>70700</td>\n",
       "      <td>11027606</td>\n",
       "      <td>-0.008415</td>\n",
       "    </tr>\n",
       "    <tr>\n",
       "      <th>2021-11-18</th>\n",
       "      <td>70700</td>\n",
       "      <td>71000</td>\n",
       "      <td>70200</td>\n",
       "      <td>70200</td>\n",
       "      <td>10144957</td>\n",
       "      <td>-0.007072</td>\n",
       "    </tr>\n",
       "    <tr>\n",
       "      <th>2021-11-19</th>\n",
       "      <td>70400</td>\n",
       "      <td>71400</td>\n",
       "      <td>70100</td>\n",
       "      <td>71200</td>\n",
       "      <td>11954728</td>\n",
       "      <td>0.014245</td>\n",
       "    </tr>\n",
       "    <tr>\n",
       "      <th>2021-11-22</th>\n",
       "      <td>73300</td>\n",
       "      <td>75200</td>\n",
       "      <td>73000</td>\n",
       "      <td>74900</td>\n",
       "      <td>27506623</td>\n",
       "      <td>0.051966</td>\n",
       "    </tr>\n",
       "    <tr>\n",
       "      <th>2021-11-23</th>\n",
       "      <td>76000</td>\n",
       "      <td>76000</td>\n",
       "      <td>74500</td>\n",
       "      <td>75300</td>\n",
       "      <td>21830879</td>\n",
       "      <td>0.005340</td>\n",
       "    </tr>\n",
       "  </tbody>\n",
       "</table>\n",
       "<p>469 rows × 6 columns</p>\n",
       "</div>"
      ],
      "text/plain": [
       "             Open   High    Low  Close    Volume    Change\n",
       "Date                                                      \n",
       "2020-01-02  55500  56000  55000  55200  12993228 -0.010753\n",
       "2020-01-03  56000  56600  54900  55500  15422255  0.005435\n",
       "2020-01-06  54900  55600  54600  55500  10278951  0.000000\n",
       "2020-01-07  55700  56400  55600  55800  10009778  0.005405\n",
       "2020-01-08  56200  57400  55900  56800  23501171  0.017921\n",
       "...           ...    ...    ...    ...       ...       ...\n",
       "2021-11-17  71300  71600  70600  70700  11027606 -0.008415\n",
       "2021-11-18  70700  71000  70200  70200  10144957 -0.007072\n",
       "2021-11-19  70400  71400  70100  71200  11954728  0.014245\n",
       "2021-11-22  73300  75200  73000  74900  27506623  0.051966\n",
       "2021-11-23  76000  76000  74500  75300  21830879  0.005340\n",
       "\n",
       "[469 rows x 6 columns]"
      ]
     },
     "execution_count": 59,
     "metadata": {},
     "output_type": "execute_result"
    }
   ],
   "source": [
    "find_item_list(\"삼성전자\")"
   ]
  },
  {
   "cell_type": "markdown",
   "metadata": {
    "id": "6UCk0UYn9yXR"
   },
   "source": [
    "### 종목명으로 일별 시세를 잘 가져오는지 확인하기"
   ]
  },
  {
   "cell_type": "code",
   "execution_count": 60,
   "metadata": {
    "id": "fFnQ4fR75HMU"
   },
   "outputs": [
    {
     "data": {
      "text/html": [
       "<div>\n",
       "<style scoped>\n",
       "    .dataframe tbody tr th:only-of-type {\n",
       "        vertical-align: middle;\n",
       "    }\n",
       "\n",
       "    .dataframe tbody tr th {\n",
       "        vertical-align: top;\n",
       "    }\n",
       "\n",
       "    .dataframe thead th {\n",
       "        text-align: right;\n",
       "    }\n",
       "</style>\n",
       "<table border=\"1\" class=\"dataframe\">\n",
       "  <thead>\n",
       "    <tr style=\"text-align: right;\">\n",
       "      <th></th>\n",
       "      <th>Open</th>\n",
       "      <th>High</th>\n",
       "      <th>Low</th>\n",
       "      <th>Close</th>\n",
       "      <th>Volume</th>\n",
       "      <th>Change</th>\n",
       "    </tr>\n",
       "    <tr>\n",
       "      <th>Date</th>\n",
       "      <th></th>\n",
       "      <th></th>\n",
       "      <th></th>\n",
       "      <th></th>\n",
       "      <th></th>\n",
       "      <th></th>\n",
       "    </tr>\n",
       "  </thead>\n",
       "  <tbody>\n",
       "    <tr>\n",
       "      <th>2020-01-02</th>\n",
       "      <td>321000</td>\n",
       "      <td>321000</td>\n",
       "      <td>313500</td>\n",
       "      <td>314000</td>\n",
       "      <td>139496</td>\n",
       "      <td>-0.011024</td>\n",
       "    </tr>\n",
       "    <tr>\n",
       "      <th>2020-01-03</th>\n",
       "      <td>317000</td>\n",
       "      <td>318500</td>\n",
       "      <td>310500</td>\n",
       "      <td>311000</td>\n",
       "      <td>165030</td>\n",
       "      <td>-0.009554</td>\n",
       "    </tr>\n",
       "    <tr>\n",
       "      <th>2020-01-06</th>\n",
       "      <td>308000</td>\n",
       "      <td>311000</td>\n",
       "      <td>306500</td>\n",
       "      <td>307000</td>\n",
       "      <td>138154</td>\n",
       "      <td>-0.012862</td>\n",
       "    </tr>\n",
       "    <tr>\n",
       "      <th>2020-01-07</th>\n",
       "      <td>306000</td>\n",
       "      <td>313500</td>\n",
       "      <td>305000</td>\n",
       "      <td>311000</td>\n",
       "      <td>133788</td>\n",
       "      <td>0.013029</td>\n",
       "    </tr>\n",
       "    <tr>\n",
       "      <th>2020-01-08</th>\n",
       "      <td>306000</td>\n",
       "      <td>307000</td>\n",
       "      <td>301500</td>\n",
       "      <td>302000</td>\n",
       "      <td>225471</td>\n",
       "      <td>-0.028939</td>\n",
       "    </tr>\n",
       "    <tr>\n",
       "      <th>...</th>\n",
       "      <td>...</td>\n",
       "      <td>...</td>\n",
       "      <td>...</td>\n",
       "      <td>...</td>\n",
       "      <td>...</td>\n",
       "      <td>...</td>\n",
       "    </tr>\n",
       "    <tr>\n",
       "      <th>2021-11-17</th>\n",
       "      <td>785000</td>\n",
       "      <td>787000</td>\n",
       "      <td>765000</td>\n",
       "      <td>769000</td>\n",
       "      <td>131941</td>\n",
       "      <td>-0.010296</td>\n",
       "    </tr>\n",
       "    <tr>\n",
       "      <th>2021-11-18</th>\n",
       "      <td>773000</td>\n",
       "      <td>780000</td>\n",
       "      <td>760000</td>\n",
       "      <td>776000</td>\n",
       "      <td>148071</td>\n",
       "      <td>0.009103</td>\n",
       "    </tr>\n",
       "    <tr>\n",
       "      <th>2021-11-19</th>\n",
       "      <td>770000</td>\n",
       "      <td>779000</td>\n",
       "      <td>755000</td>\n",
       "      <td>758000</td>\n",
       "      <td>232115</td>\n",
       "      <td>-0.023196</td>\n",
       "    </tr>\n",
       "    <tr>\n",
       "      <th>2021-11-22</th>\n",
       "      <td>758000</td>\n",
       "      <td>765000</td>\n",
       "      <td>751000</td>\n",
       "      <td>765000</td>\n",
       "      <td>200500</td>\n",
       "      <td>0.009235</td>\n",
       "    </tr>\n",
       "    <tr>\n",
       "      <th>2021-11-23</th>\n",
       "      <td>765000</td>\n",
       "      <td>768000</td>\n",
       "      <td>739000</td>\n",
       "      <td>740000</td>\n",
       "      <td>220876</td>\n",
       "      <td>-0.032680</td>\n",
       "    </tr>\n",
       "  </tbody>\n",
       "</table>\n",
       "<p>469 rows × 6 columns</p>\n",
       "</div>"
      ],
      "text/plain": [
       "              Open    High     Low   Close  Volume    Change\n",
       "Date                                                        \n",
       "2020-01-02  321000  321000  313500  314000  139496 -0.011024\n",
       "2020-01-03  317000  318500  310500  311000  165030 -0.009554\n",
       "2020-01-06  308000  311000  306500  307000  138154 -0.012862\n",
       "2020-01-07  306000  313500  305000  311000  133788  0.013029\n",
       "2020-01-08  306000  307000  301500  302000  225471 -0.028939\n",
       "...            ...     ...     ...     ...     ...       ...\n",
       "2021-11-17  785000  787000  765000  769000  131941 -0.010296\n",
       "2021-11-18  773000  780000  760000  776000  148071  0.009103\n",
       "2021-11-19  770000  779000  755000  758000  232115 -0.023196\n",
       "2021-11-22  758000  765000  751000  765000  200500  0.009235\n",
       "2021-11-23  765000  768000  739000  740000  220876 -0.032680\n",
       "\n",
       "[469 rows x 6 columns]"
      ]
     },
     "execution_count": 60,
     "metadata": {},
     "output_type": "execute_result"
    }
   ],
   "source": [
    "# LG화학의 데이터를 가져옵니다.\n",
    "find_item_list(\"LG화학\")"
   ]
  },
  {
   "cell_type": "code",
   "execution_count": 62,
   "metadata": {
    "id": "r93FJRnk5HMU"
   },
   "outputs": [],
   "source": [
    "# 빅히트의 데이터를 가져옵니다.\n",
    "# stock_daily 변수에 담습니다.\n",
    "# NaN - 전일자료가 없어서 변동이 없음\n",
    "stock_daily = find_item_list(\"하이브\")\n"
   ]
  },
  {
   "cell_type": "markdown",
   "metadata": {},
   "source": [
    "## 개별종목 시세 시각화\n",
    "### pandas 의 plot으로 시각화 하기"
   ]
  },
  {
   "cell_type": "code",
   "execution_count": 63,
   "metadata": {},
   "outputs": [
    {
     "data": {
      "text/plain": [
       "Date\n",
       "2020-10-15    255420\n",
       "2020-10-16    198495\n",
       "2020-10-19    187110\n",
       "2020-10-20    180675\n",
       "2020-10-21    177210\n",
       "               ...  \n",
       "2021-11-17    414000\n",
       "2021-11-18    412500\n",
       "2021-11-19    400500\n",
       "2021-11-22    392500\n",
       "2021-11-23    392500\n",
       "Name: Close, Length: 275, dtype: int64"
      ]
     },
     "execution_count": 63,
     "metadata": {},
     "output_type": "execute_result"
    }
   ],
   "source": [
    "# stock_daily 변수에 할당된 수집된 데이터의 종가 그래프를 그립니다.\n",
    "# index- x 1열이 y\n",
    "stock_daily[\"Close\"]"
   ]
  },
  {
   "cell_type": "code",
   "execution_count": 65,
   "metadata": {},
   "outputs": [
    {
     "data": {
      "text/plain": [
       "<AxesSubplot:xlabel='Date'>"
      ]
     },
     "execution_count": 65,
     "metadata": {},
     "output_type": "execute_result"
    },
    {
     "data": {
      "image/png": "[encoded data removed]",
      "text/plain": [
       "<Figure size 432x288 with 1 Axes>"
      ]
     },
     "metadata": {
      "needs_background": "light"
     },
     "output_type": "display_data"
    }
   ],
   "source": [
    "# 전체 데이터프레임을 plot() 으로 시각화 하면 수치 데이터 전체를 선그래프로 그립니다.\n",
    "stock_daily.plot()"
   ]
  },
  {
   "cell_type": "markdown",
   "metadata": {},
   "source": [
    "### 서브플롯 그리기"
   ]
  },
  {
   "cell_type": "code",
   "execution_count": 70,
   "metadata": {
    "id": "0TThx3Vq5HMU"
   },
   "outputs": [
    {
     "data": {
      "image/png": "[encoded data removed]",
      "text/plain": [
       "<Figure size 720x576 with 6 Axes>"
      ]
     },
     "metadata": {
      "needs_background": "light"
     },
     "output_type": "display_data"
    }
   ],
   "source": [
    "# 수집한 종목의 선그래프를 Pandas 로 그립니다.\n",
    "# 스케일이 다르기 때문에 subplots를 사용해 그려봅니다.\n",
    "\n",
    "\n",
    "g = stock_daily.plot(subplots=True,figsize=(10,8))"
   ]
  },
  {
   "cell_type": "code",
   "execution_count": 77,
   "metadata": {},
   "outputs": [
    {
     "data": {
      "image/png": "[encoded data removed]",
      "text/plain": [
       "<Figure size 720x576 with 6 Axes>"
      ]
     },
     "metadata": {
      "needs_background": "light"
     },
     "output_type": "display_data"
    }
   ],
   "source": [
    "# 히스토그램 그리기\n",
    "g = stock_daily.hist(figsize=(10,8),bins = 20)"
   ]
  },
  {
   "cell_type": "markdown",
   "metadata": {},
   "source": [
    "### 2축 그래프 그리기"
   ]
  },
  {
   "cell_type": "code",
   "execution_count": 79,
   "metadata": {},
   "outputs": [
    {
     "data": {
      "text/plain": [
       "<AxesSubplot:xlabel='Date'>"
      ]
     },
     "execution_count": 79,
     "metadata": {},
     "output_type": "execute_result"
    },
    {
     "data": {
      "image/png": "[encoded data removed]",
      "text/plain": [
       "<Figure size 432x288 with 2 Axes>"
      ]
     },
     "metadata": {
      "needs_background": "light"
     },
     "output_type": "display_data"
    }
   ],
   "source": [
    "# secondary_y 옵션을 통한 종가와 거래량에 대한 2축 그래프 그리기\n",
    "stock_daily[[\"Close\",\"Volume\"]].plot(secondary_y=\"Volume\")\n",
    "\n"
   ]
  },
  {
   "cell_type": "code",
   "execution_count": 80,
   "metadata": {},
   "outputs": [
    {
     "data": {
      "text/plain": [
       "1000000.0"
      ]
     },
     "execution_count": 80,
     "metadata": {},
     "output_type": "execute_result"
    }
   ],
   "source": [
    "#1e6?? -->  1000000.0  10^6\n",
    "1e6"
   ]
  },
  {
   "cell_type": "markdown",
   "metadata": {},
   "source": [
    "### 과학적 기수법\n",
    "* 참고 : E notation\n",
    "[과학적 기수법 - 위키백과, 우리 모두의 백과사전](https://ko.wikipedia.org/wiki/%EA%B3%BC%ED%95%99%EC%A0%81_%EA%B8%B0%EC%88%98%EB%B2%95)\n",
    "\n",
    "과학적 기수법, 과학적 표기법(scientific notation, scientific form, standard index form, standard form)은 너무 크거나 너무 작은 숫자들을 십진법으로 편하게 작성하여 표현하는 방법이다. 과학자, 수학자, 공학자들이 공통적으로 사용하는데, 부분적인 이유는 특정한 산술을 단순화시켜 주기 때문이다. 과학 계산기에서는 \"SCI\" 디스플레이 모드라는 이름으로 알려져 있다."
   ]
  },
  {
   "cell_type": "code",
   "execution_count": 81,
   "metadata": {},
   "outputs": [
    {
     "data": {
      "text/html": [
       "<div>\n",
       "<style scoped>\n",
       "    .dataframe tbody tr th:only-of-type {\n",
       "        vertical-align: middle;\n",
       "    }\n",
       "\n",
       "    .dataframe tbody tr th {\n",
       "        vertical-align: top;\n",
       "    }\n",
       "\n",
       "    .dataframe thead th {\n",
       "        text-align: right;\n",
       "    }\n",
       "</style>\n",
       "<table border=\"1\" class=\"dataframe\">\n",
       "  <thead>\n",
       "    <tr style=\"text-align: right;\">\n",
       "      <th></th>\n",
       "      <th>Open</th>\n",
       "      <th>High</th>\n",
       "      <th>Low</th>\n",
       "      <th>Close</th>\n",
       "      <th>Volume</th>\n",
       "      <th>Change</th>\n",
       "    </tr>\n",
       "  </thead>\n",
       "  <tbody>\n",
       "    <tr>\n",
       "      <th>count</th>\n",
       "      <td>275.000000</td>\n",
       "      <td>275.000000</td>\n",
       "      <td>275.000000</td>\n",
       "      <td>275.000000</td>\n",
       "      <td>2.750000e+02</td>\n",
       "      <td>274.000000</td>\n",
       "    </tr>\n",
       "    <tr>\n",
       "      <th>mean</th>\n",
       "      <td>250702.130909</td>\n",
       "      <td>256867.636364</td>\n",
       "      <td>245089.705455</td>\n",
       "      <td>250501.418182</td>\n",
       "      <td>4.822289e+05</td>\n",
       "      <td>0.002210</td>\n",
       "    </tr>\n",
       "    <tr>\n",
       "      <th>std</th>\n",
       "      <td>62876.739917</td>\n",
       "      <td>64048.428204</td>\n",
       "      <td>61944.056161</td>\n",
       "      <td>63210.278651</td>\n",
       "      <td>6.349397e+05</td>\n",
       "      <td>0.035568</td>\n",
       "    </tr>\n",
       "    <tr>\n",
       "      <th>min</th>\n",
       "      <td>141075.000000</td>\n",
       "      <td>145035.000000</td>\n",
       "      <td>139590.000000</td>\n",
       "      <td>140580.000000</td>\n",
       "      <td>9.056300e+04</td>\n",
       "      <td>-0.222868</td>\n",
       "    </tr>\n",
       "    <tr>\n",
       "      <th>25%</th>\n",
       "      <td>200227.500000</td>\n",
       "      <td>207404.500000</td>\n",
       "      <td>191812.500000</td>\n",
       "      <td>198247.500000</td>\n",
       "      <td>1.972340e+05</td>\n",
       "      <td>-0.016848</td>\n",
       "    </tr>\n",
       "    <tr>\n",
       "      <th>50%</th>\n",
       "      <td>255500.000000</td>\n",
       "      <td>261500.000000</td>\n",
       "      <td>249000.000000</td>\n",
       "      <td>255420.000000</td>\n",
       "      <td>3.212440e+05</td>\n",
       "      <td>0.001858</td>\n",
       "    </tr>\n",
       "    <tr>\n",
       "      <th>75%</th>\n",
       "      <td>291500.000000</td>\n",
       "      <td>300250.000000</td>\n",
       "      <td>289000.000000</td>\n",
       "      <td>292750.000000</td>\n",
       "      <td>4.921175e+05</td>\n",
       "      <td>0.017818</td>\n",
       "    </tr>\n",
       "    <tr>\n",
       "      <th>max</th>\n",
       "      <td>418000.000000</td>\n",
       "      <td>421500.000000</td>\n",
       "      <td>408500.000000</td>\n",
       "      <td>414000.000000</td>\n",
       "      <td>6.557212e+06</td>\n",
       "      <td>0.112717</td>\n",
       "    </tr>\n",
       "  </tbody>\n",
       "</table>\n",
       "</div>"
      ],
      "text/plain": [
       "                Open           High            Low          Close  \\\n",
       "count     275.000000     275.000000     275.000000     275.000000   \n",
       "mean   250702.130909  256867.636364  245089.705455  250501.418182   \n",
       "std     62876.739917   64048.428204   61944.056161   63210.278651   \n",
       "min    141075.000000  145035.000000  139590.000000  140580.000000   \n",
       "25%    200227.500000  207404.500000  191812.500000  198247.500000   \n",
       "50%    255500.000000  261500.000000  249000.000000  255420.000000   \n",
       "75%    291500.000000  300250.000000  289000.000000  292750.000000   \n",
       "max    418000.000000  421500.000000  408500.000000  414000.000000   \n",
       "\n",
       "             Volume      Change  \n",
       "count  2.750000e+02  274.000000  \n",
       "mean   4.822289e+05    0.002210  \n",
       "std    6.349397e+05    0.035568  \n",
       "min    9.056300e+04   -0.222868  \n",
       "25%    1.972340e+05   -0.016848  \n",
       "50%    3.212440e+05    0.001858  \n",
       "75%    4.921175e+05    0.017818  \n",
       "max    6.557212e+06    0.112717  "
      ]
     },
     "execution_count": 81,
     "metadata": {},
     "output_type": "execute_result"
    }
   ],
   "source": [
    "# \n",
    "stock_daily.describe()"
   ]
  },
  {
   "cell_type": "code",
   "execution_count": null,
   "metadata": {},
   "outputs": [],
   "source": []
  },
  {
   "cell_type": "code",
   "execution_count": null,
   "metadata": {},
   "outputs": [],
   "source": []
  },
  {
   "cell_type": "code",
   "execution_count": null,
   "metadata": {},
   "outputs": [],
   "source": []
  },
  {
   "cell_type": "code",
   "execution_count": null,
   "metadata": {},
   "outputs": [],
   "source": []
  },
  {
   "cell_type": "code",
   "execution_count": null,
   "metadata": {},
   "outputs": [],
   "source": []
  },
  {
   "cell_type": "code",
   "execution_count": null,
   "metadata": {},
   "outputs": [],
   "source": []
  },
  {
   "cell_type": "code",
   "execution_count": null,
   "metadata": {},
   "outputs": [],
   "source": []
  }
 ],
 "metadata": {
  "colab": {
   "collapsed_sections": [],
   "name": "2. FinanceDataReader를 통한 개별종목 수집하기.ipynb",
   "provenance": []
  },
  "kernelspec": {
   "display_name": "Python 3 (ipykernel)",
   "language": "python",
   "name": "python3"
  },
  "language_info": {
   "codemirror_mode": {
    "name": "ipython",
    "version": 3
   },
   "file_extension": ".py",
   "mimetype": "text/x-python",
   "name": "python",
   "nbconvert_exporter": "python",
   "pygments_lexer": "ipython3",
   "version": "3.9.7"
  },
  "toc": {
   "base_numbering": 1,
   "nav_menu": {},
   "number_sections": true,
   "sideBar": true,
   "skip_h1_title": false,
   "title_cell": "Table of Contents",
   "title_sidebar": "Contents",
   "toc_cell": false,
   "toc_position": {
    "height": "calc(100% - 180px)",
    "left": "10px",
    "top": "150px",
    "width": "256px"
   },
   "toc_section_display": true,
   "toc_window_display": true
  },
  "varInspector": {
   "cols": {
    "lenName": 16,
    "lenType": 16,
    "lenVar": 40
   },
   "kernels_config": {
    "python": {
     "delete_cmd_postfix": "",
     "delete_cmd_prefix": "del ",
     "library": "var_list.py",
     "varRefreshCmd": "print(var_dic_list())"
    },
    "r": {
     "delete_cmd_postfix": ") ",
     "delete_cmd_prefix": "rm(",
     "library": "var_list.r",
     "varRefreshCmd": "cat(var_dic_list()) "
    }
   },
   "types_to_exclude": [
    "module",
    "function",
    "builtin_function_or_method",
    "instance",
    "_Feature"
   ],
   "window_display": false
  }
 },
 "nbformat": 4,
 "nbformat_minor": 1
}
